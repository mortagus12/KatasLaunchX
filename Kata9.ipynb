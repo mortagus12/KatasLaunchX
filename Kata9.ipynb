{
 "cells": [
  {
   "cell_type": "markdown",
   "metadata": {},
   "source": [
    "# Ejercicio 1"
   ]
  },
  {
   "cell_type": "code",
   "execution_count": null,
   "metadata": {},
   "outputs": [],
   "source": [
    "def tanqueCombustible(tanque1, tanque2, tanque3):\n",
    "    promedio = (tanque1 + tanque2 + tanque3) / 3\n",
    "    print (f\"El promedio es: {promedio}\")"
   ]
  },
  {
   "cell_type": "code",
   "execution_count": null,
   "metadata": {},
   "outputs": [],
   "source": [
    "print(tanqueCombustible(10, 20, 30))"
   ]
  },
  {
   "cell_type": "code",
   "execution_count": null,
   "metadata": {},
   "outputs": [],
   "source": [
    "def average(*valor):\n",
    "    total = sum(valor)\n",
    "    totalTanques = len(valor)\n",
    "    return total / totalTanques\n",
    "\n",
    "average(10,20,30)"
   ]
  },
  {
   "cell_type": "code",
   "execution_count": null,
   "metadata": {},
   "outputs": [],
   "source": [
    "i = 0\n",
    "def tanqueCombustible(**lista):\n",
    "    for nombre, cant in lista.items():\n",
    "        print(f\"El {nombre} tiene: {cant}% de gasolina\")\n",
    "    print (f\"El promedio es: {average(*lista.values())}%\")\n",
    "tanqueCombustible(Tanque1 =  10,Tanque2 = 20, Tanque3 = 30)"
   ]
  },
  {
   "cell_type": "markdown",
   "metadata": {},
   "source": [
    "# Ejercicio 2"
   ]
  },
  {
   "cell_type": "code",
   "execution_count": null,
   "metadata": {},
   "outputs": [],
   "source": [
    "def informeMision(prelanzamiento, tiempoVuelo, destino, tanqueExterno, tanqueInterno):\n",
    "    print (f\"\"\" \n",
    "    Misón con destino a {destino}\n",
    "    Tiempo de viaje: {tiempoVuelo + prelanzamiento} minutos\n",
    "    Combustible Total: {tanqueExterno + tanqueInterno} litros\n",
    "    \"\"\")\n",
    "informeMision(10, 20, \"Luna\", 80, 60)"
   ]
  },
  {
   "cell_type": "code",
   "execution_count": null,
   "metadata": {},
   "outputs": [],
   "source": [
    "def informeMision(destino, *tiempo, **tanqueGasolina):\n",
    "    print (f\"\"\" \n",
    "    Misón con destino a {destino}\n",
    "    Tiempo de viaje: {sum(tiempo)} minutos\n",
    "    Combustible Total: {sum(tanqueGasolina.values())} litros\n",
    "    \"\"\")\n",
    "    for nombreTanque, cant in tanqueGasolina.items():\n",
    "        print(f\"{nombreTanque} tiene {cant} litros disponibles.\")\n",
    "informeMision(\"Luna\", 10, 20, 30, Tanque1 = 80, Tanque2 = 90)"
   ]
  }
 ],
 "metadata": {
  "interpreter": {
   "hash": "f78335d70e3a8a7459c1a847110fdd5d76506b43474d55d78cd5f9d0fcfd039d"
  },
  "kernelspec": {
   "display_name": "Python 3.10.2 64-bit",
   "language": "python",
   "name": "python3"
  },
  "language_info": {
   "codemirror_mode": {
    "name": "ipython",
    "version": 3
   },
   "file_extension": ".py",
   "mimetype": "text/x-python",
   "name": "python",
   "nbconvert_exporter": "python",
   "pygments_lexer": "ipython3",
   "version": "3.10.2"
  },
  "orig_nbformat": 4
 },
 "nbformat": 4,
 "nbformat_minor": 2
}
